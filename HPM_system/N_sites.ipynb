{
 "cells": [
  {
   "cell_type": "code",
   "execution_count": 1,
   "id": "902f7072-b3b8-408b-b4cf-97da179dfd8f",
   "metadata": {
    "execution": {
     "iopub.execute_input": "2023-08-21T16:46:02.769275Z",
     "iopub.status.busy": "2023-08-21T16:46:02.769275Z",
     "iopub.status.idle": "2023-08-21T16:46:03.164360Z",
     "shell.execute_reply": "2023-08-21T16:46:03.164360Z",
     "shell.execute_reply.started": "2023-08-21T16:46:02.769275Z"
    }
   },
   "outputs": [],
   "source": [
    "import matplotlib.pyplot as plt\n",
    "import numpy as np"
   ]
  },
  {
   "cell_type": "code",
   "execution_count": 2,
   "id": "4c6d2ea4-5607-4c12-91b6-77c48de8edd3",
   "metadata": {
    "execution": {
     "iopub.execute_input": "2023-08-21T16:46:10.658677Z",
     "iopub.status.busy": "2023-08-21T16:46:10.657680Z",
     "iopub.status.idle": "2023-08-21T16:46:10.662834Z",
     "shell.execute_reply": "2023-08-21T16:46:10.662834Z",
     "shell.execute_reply.started": "2023-08-21T16:46:10.657680Z"
    }
   },
   "outputs": [],
   "source": [
    "def u(x, y, a_1, b_1):\n",
    "    numerator = a_1 * y\n",
    "    denominator = 1/(1 + b_1 * x)\n",
    "    fraction = numerator * denominator\n",
    "    return x * (2 - x - fraction)\n",
    "\n",
    "\n",
    "def v(x_new, y, z, a_1, a_2, b_1, b_2, d_1):\n",
    "    numerator_x = a_1 * x_new\n",
    "    denominator_x = 1/(1 + b_1 * x_new)\n",
    "    fraction_x = numerator_x * denominator_x\n",
    "    ###################################################\n",
    "    numerator_y = a_2 * z\n",
    "    denominator_y = 1/(1 + b_2 * y)\n",
    "    fraction_y = numerator_y * denominator_y\n",
    "    return y * (np.exp(-d_1) + fraction_x - fraction_y)\n",
    "\n",
    "\n",
    "def w(y_new, z, a_2, b_2, d_2):\n",
    "    numerator = a_2 * y_new\n",
    "    denominator = 1/(1 + b_2 * y_new)\n",
    "    fraction = numerator * denominator\n",
    "    return z * (np.exp(-d_2) + fraction)"
   ]
  },
  {
   "cell_type": "code",
   "execution_count": 3,
   "id": "9b4bdd82-dafe-4dca-8da1-2199095a3827",
   "metadata": {
    "execution": {
     "iopub.execute_input": "2023-08-21T16:46:35.829248Z",
     "iopub.status.busy": "2023-08-21T16:46:35.828250Z",
     "iopub.status.idle": "2023-08-21T16:46:35.835601Z",
     "shell.execute_reply": "2023-08-21T16:46:35.835601Z",
     "shell.execute_reply.started": "2023-08-21T16:46:35.829248Z"
    }
   },
   "outputs": [],
   "source": [
    "def _calculate_next_step_N_sites(array, a_1, a_2, b_1, b_2, d_1, d_2, D_x, D_y, D_z):\n",
    "    \"\"\"This function iterates the HPM system with N sites.\n",
    "\n",
    "    Args:\n",
    "        array (Array): ND array containing the x, y and z values for the species for all sites. It's assumed that this array is in the form of\n",
    "        [[x_1,x_2,...],[y_1,y_2,...],[z_1,z_2,...]].\n",
    "        a_1 (Float): The value of the a_1 param;\n",
    "        a_2 (Float): The value of the a_2 param;\n",
    "        b_1 (Float): The value of the a_1 param;\n",
    "        b_2 (Float): The value of the b_2 param;\n",
    "        d_1 (Float): The value of the d_1 param;\n",
    "        d_2 (Float): The value of the d_2 param;\n",
    "        D_x (float or Array-like): The migration coefficient of the x species between the sites. Similarly to the 2 sites case, this can be a single value, i.e, all the\n",
    "        sites have the same, or an N-dimensional array containing the migration coefficient between each site.\n",
    "        D_y (float or Array-like): The migration coefficient of the y species between site 1 and 2. Similarly to the 2 sites case, this can be a single value, i.e, all the\n",
    "        sites have the same, or an N-dimensional array containing the migration coefficient between each site.\n",
    "        D_z (float or Array-like): The migration coefficient of the z species between site 1 and 2. Similarly to the 2 sites case, this can be a single value, i.e, all the\n",
    "        sites have the same, or an N-dimensional array containing the migration coefficient between each site.\n",
    "\n",
    "    Returns:\n",
    "        Returns an matrix containing the new values of x, y and z in the form: [[x_1,x_2,...],[y_1,y_2,...],[z_1,z_2,...]].\n",
    "    \"\"\"\n",
    "    x = array[0]\n",
    "    y = array[1]\n",
    "    z = array[2]\n",
    "    x_new = u(x, y, a_1, b_1) + D_x * (np.mean(x) - x)\n",
    "    y_new = v(x_new, y, z, a_1, a_2, b_1, b_2, d_1) + D_y * (np.mean(y) - y)\n",
    "    z_new = w(y_new, z, a_2, b_2, d_2) + D_z * (np.mean(z) - z)\n",
    "    return np.array([x_new, y_new, z_new])\n",
    "\n",
    "\n",
    "def integrate_N_sites_sytem(initial_conditions, number_steps, params):\n",
    "    \"\"\"This function solves a N sites HPM system of equations with migration bewtween then. The time step used is 1 and it returns the solution\n",
    "    for each time t.\n",
    "\n",
    "    Args:\n",
    "        initial_cond (Array): ND array with the initial conditions for each species in each site, i.e.,\n",
    "        [[x_1(0), x_2(0),...],[y_1(0),y_2(0),...],[z_1(0),z_2(0),...]].\n",
    "        number_steps (int): The number of iterations.\n",
    "        params (Array-like): An array containing the parameters of the system.\n",
    "\n",
    "    Returns:\n",
    "        Returns the solution of the system in the form: [[x_sol], [y_sol], [z_sol]] where x_sol is a matrix of the form\n",
    "        [[x_1(0), x_2(0),...], [x_1(1), x_2(2),...],...] and so on.\n",
    "    \"\"\"\n",
    "    a_1, a_2, b_1, b_2, d_1, d_2, D_x, D_y, D_z = params\n",
    "    x_matrix = []\n",
    "    y_matrix = []\n",
    "    z_matrix = []\n",
    "    species_matrix = initial_conditions\n",
    "    for k in range(number_steps):\n",
    "        x_matrix.append(species_matrix[0])\n",
    "        y_matrix.append(species_matrix[1])\n",
    "        z_matrix.append(species_matrix[2])\n",
    "        species_matrix = _calculate_next_step_N_sites(\n",
    "            species_matrix, a_1, a_2, b_1, b_2, d_1, d_2, D_x, D_y, D_z\n",
    "        )\n",
    "    return np.array([x_matrix, y_matrix, z_matrix])"
   ]
  },
  {
   "cell_type": "code",
   "execution_count": 8,
   "id": "062b6d7b-52bf-4b08-a0a8-ba6bd2dcd3bf",
   "metadata": {
    "execution": {
     "iopub.execute_input": "2023-08-21T16:47:44.163386Z",
     "iopub.status.busy": "2023-08-21T16:47:44.162387Z",
     "iopub.status.idle": "2023-08-21T16:47:44.599358Z",
     "shell.execute_reply": "2023-08-21T16:47:44.599358Z",
     "shell.execute_reply.started": "2023-08-21T16:47:44.163386Z"
    }
   },
   "outputs": [],
   "source": [
    "seed_N_sites = 237659272047298132505722342496921577560\n",
    "generator_N_sites = np.random.default_rng(seed=seed_N_sites)\n",
    "number_sites = 100\n",
    "initial_cond_N_sites = np.array(\n",
    "    [\n",
    "        np.full(number_sites, 0.820),\n",
    "        np.full(number_sites, 0.124),\n",
    "        np.full(number_sites, 10.056),\n",
    "    ]\n",
    ")\n",
    "noise_N_sites = generator_N_sites.uniform(\n",
    "    -0.05 * initial_cond_N_sites, 0.05 * initial_cond_N_sites\n",
    ")\n",
    "initial_cond_N_sites = initial_cond_N_sites + noise_N_sites\n",
    "params_N_sites = (5, 0.1, 3.2, 2, 0.4, 0.01, 0.24, 0., 0.4)\n",
    "number_of_steps_N_sites = 6500\n",
    "time = np.arange(0,number_of_steps_N_sites,1)\n",
    "x_matrix_N_sites, y_matrix_N_sites, z_matrix_N_sites = integrate_N_sites_sytem(\n",
    "    initial_cond_N_sites, number_of_steps_N_sites, params_N_sites\n",
    ")"
   ]
  },
  {
   "cell_type": "code",
   "execution_count": 15,
   "id": "1767b5f5-48cb-4b02-b0fd-db8e221f3fc9",
   "metadata": {
    "execution": {
     "iopub.execute_input": "2023-08-21T16:49:24.695192Z",
     "iopub.status.busy": "2023-08-21T16:49:24.695192Z",
     "iopub.status.idle": "2023-08-21T16:49:24.820913Z",
     "shell.execute_reply": "2023-08-21T16:49:24.820913Z",
     "shell.execute_reply.started": "2023-08-21T16:49:24.695192Z"
    }
   },
   "outputs": [
    {
     "data": {
      "image/png": "[encoded data removed]",
      "text/plain": [
       "<Figure size 640x480 with 1 Axes>"
      ]
     },
     "metadata": {},
     "output_type": "display_data"
    }
   ],
   "source": [
    "_ = plt.plot(time[:1000], x_matrix_N_sites[:1000, 0])\n",
    "_ = plt.plot(time[:1000], x_matrix_N_sites[:1000, 90])"
   ]
  },
  {
   "cell_type": "markdown",
   "id": "2982467c-9418-48ea-98f7-26c8354be335",
   "metadata": {},
   "source": [
    "# Sincronização"
   ]
  },
  {
   "cell_type": "code",
   "execution_count": 10,
   "id": "977e2dc4-105d-452f-a9ae-861e6e0fee38",
   "metadata": {
    "execution": {
     "iopub.execute_input": "2023-08-21T16:48:15.905508Z",
     "iopub.status.busy": "2023-08-21T16:48:15.905508Z",
     "iopub.status.idle": "2023-08-21T16:48:15.910653Z",
     "shell.execute_reply": "2023-08-21T16:48:15.909651Z",
     "shell.execute_reply.started": "2023-08-21T16:48:15.905508Z"
    }
   },
   "outputs": [],
   "source": [
    "def squared_error(array):\n",
    "    \"\"\"This function computes the squared error of an array using the mean as the \"truth\" value.\n",
    "\n",
    "    Args:\n",
    "        array (Array): 2D array containing the values\n",
    "\n",
    "    Return:\n",
    "         Return the squared error.\n",
    "    \"\"\"\n",
    "    mean = np.mean(array,axis=1).reshape(len(array),-1)\n",
    "    diff = array - mean\n",
    "    return np.sum(diff**2)\n",
    "\n",
    "def calculate_mean_error(array):\n",
    "    return squared_error(array)/len(array)"
   ]
  },
  {
   "cell_type": "code",
   "execution_count": 11,
   "id": "7def64ae-87c1-4598-94f2-bf17f714449b",
   "metadata": {
    "execution": {
     "iopub.execute_input": "2023-08-21T16:48:26.747097Z",
     "iopub.status.busy": "2023-08-21T16:48:26.746100Z",
     "iopub.status.idle": "2023-08-21T16:48:45.802183Z",
     "shell.execute_reply": "2023-08-21T16:48:45.802183Z",
     "shell.execute_reply.started": "2023-08-21T16:48:26.747097Z"
    }
   },
   "outputs": [],
   "source": [
    "D_x_values = np.arange(0,0.5,0.01)\n",
    "d = []\n",
    "for d_x in D_x_values:\n",
    "    params_N_sites = (5, 0.1, 3.2, 2, 0.4, 0.01, d_x, 0.0, 0.3)\n",
    "    x_matrix_N_sites, y_matrix_N_sites, z_matrix_N_sites = integrate_N_sites_sytem(\n",
    "        initial_cond_N_sites, number_of_steps_N_sites, params_N_sites\n",
    "    )\n",
    "    d.append(calculate_mean_error(y_matrix_N_sites[5500:,:])+calculate_mean_error(x_matrix_N_sites[5500:,:])+calculate_mean_error(z_matrix_N_sites[5500:,:]))\n",
    "sincronization = np.exp(-np.array(d))"
   ]
  },
  {
   "cell_type": "code",
   "execution_count": 12,
   "id": "d2152208-7996-45a3-83d4-44172ab9c5c2",
   "metadata": {
    "execution": {
     "iopub.execute_input": "2023-08-21T16:48:58.968571Z",
     "iopub.status.busy": "2023-08-21T16:48:58.968571Z",
     "iopub.status.idle": "2023-08-21T16:48:59.152461Z",
     "shell.execute_reply": "2023-08-21T16:48:59.152461Z",
     "shell.execute_reply.started": "2023-08-21T16:48:58.968571Z"
    }
   },
   "outputs": [
    {
     "data": {
      "text/plain": [
       "Text(0, 0.5, '$s$')"
      ]
     },
     "execution_count": 12,
     "metadata": {},
     "output_type": "execute_result"
    },
    {
     "data": {
      "image/png": "[encoded data removed]",
      "text/plain": [
       "<Figure size 640x480 with 1 Axes>"
      ]
     },
     "metadata": {},
     "output_type": "display_data"
    }
   ],
   "source": [
    "_ = plt.plot(D_x_values,sincronization)\n",
    "plt.xlabel(r'$D_x$')\n",
    "plt.ylabel('$s$')"
   ]
  },
  {
   "cell_type": "code",
   "execution_count": 14,
   "id": "240e9034-e664-4b5f-a637-89d9c91ca3a1",
   "metadata": {
    "execution": {
     "iopub.execute_input": "2023-08-21T16:49:09.551657Z",
     "iopub.status.busy": "2023-08-21T16:49:09.550658Z",
     "iopub.status.idle": "2023-08-21T16:49:09.555707Z",
     "shell.execute_reply": "2023-08-21T16:49:09.555707Z",
     "shell.execute_reply.started": "2023-08-21T16:49:09.551657Z"
    }
   },
   "outputs": [
    {
     "data": {
      "text/plain": [
       "array([1.00000000e+00, 3.24398657e-03, 2.26967212e-03, 2.16680674e-03,\n",
       "       1.90502994e-03, 2.53779200e-03, 1.87945936e-03, 1.50322644e-03,\n",
       "       1.01713815e-03, 1.15612202e-03, 1.23069429e-03, 8.52573417e-04,\n",
       "       1.06236637e-03, 1.12204771e-03, 7.71114150e-04, 1.10554817e-03,\n",
       "       6.11142091e-04, 1.06461203e-03, 7.93960103e-04, 6.23768386e-04,\n",
       "       8.68679343e-04, 6.24783849e-04, 3.71882984e-04, 4.30200179e-06,\n",
       "       1.57201077e-04, 4.56383833e-06, 1.39461075e-06, 1.21681745e-04,\n",
       "       1.33799218e-04, 1.18894954e-04, 2.12200321e-07, 8.36175004e-07,\n",
       "       8.55235685e-07, 8.71359453e-07, 4.59194959e-07, 1.15421579e-07,\n",
       "       5.63058685e-08, 2.43452844e-07, 1.20952861e-07, 1.22676365e-07,\n",
       "       5.91771488e-08, 1.26740609e-08, 2.54035762e-09, 2.39610938e-10,\n",
       "       6.14289701e-11, 1.84713240e-11, 5.09728152e-11, 1.68415017e-11,\n",
       "       1.05115816e-11, 7.17918332e-12])"
      ]
     },
     "execution_count": 14,
     "metadata": {},
     "output_type": "execute_result"
    }
   ],
   "source": [
    "sincronization"
   ]
  }
 ],
 "metadata": {
  "kernelspec": {
   "display_name": "Python 3 (ipykernel)",
   "language": "python",
   "name": "python3"
  },
  "language_info": {
   "codemirror_mode": {
    "name": "ipython",
    "version": 3
   },
   "file_extension": ".py",
   "mimetype": "text/x-python",
   "name": "python",
   "nbconvert_exporter": "python",
   "pygments_lexer": "ipython3",
   "version": "3.11.1"
  }
 },
 "nbformat": 4,
 "nbformat_minor": 5
}
